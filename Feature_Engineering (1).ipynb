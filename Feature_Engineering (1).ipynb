{
  "nbformat": 4,
  "nbformat_minor": 0,
  "metadata": {
    "colab": {
      "provenance": []
    },
    "kernelspec": {
      "name": "python3",
      "display_name": "Python 3"
    },
    "language_info": {
      "name": "python"
    }
  },
  "cells": [
    {
      "cell_type": "markdown",
      "source": [
        "Ques-1 What is a parameter?"
      ],
      "metadata": {
        "id": "ZojqUfmFujwM"
      }
    },
    {
      "cell_type": "markdown",
      "source": [
        "A parameter is a variable or configuration value used to define or control the behavior of a process that transforms raw data into features suitable for modeling. Parameters guide how the transformation is applied and influence the resulting features.\n",
        "\n",
        "--> Importance of Parameters in Feature Engineering:\n",
        "\n",
        "Model Performance: The choice of parameters can significantly influence the quality of the features and, ultimately, the model's predictive performance.\n",
        "\n",
        "Interpretability: Proper parameter selection ensures meaningful and interpretable features.\n",
        "\n",
        "Efficiency: Efficient parameter choices reduce computation time and avoid overfitting or underfitting.\n",
        "\n",
        "--> Examples of Parameters in Feature Engineering:\n",
        "\n",
        "Scaling and Normalization\n",
        "\n",
        "Binning (Discretization)\n",
        "\n",
        "Encoding Categorical Variables\n",
        "\n",
        "Handling Missing Values\n",
        "\n",
        "Polynomial Features\n",
        "\n",
        "Feature Selection\n"
      ],
      "metadata": {
        "id": "tQ66VTImur4Q"
      }
    },
    {
      "cell_type": "markdown",
      "source": [
        "Ques-2 What is correlation?\n",
        "What does negative correlation mean?"
      ],
      "metadata": {
        "id": "1B-NDWCK0OQC"
      }
    },
    {
      "cell_type": "markdown",
      "source": [
        "Correlation is used to identify and understand relationships between features (independent variables) and between features and the target variable (dependent variable). This understanding is essential for selecting, transforming, or creating features that improve the performance and interpretability of machine learning models.\n",
        "\n",
        "When two features have a negative correlation, it means that as one feature's value increases, the other feature's value tends to decrease, and vice versa.\n",
        "\n",
        " For example:\n",
        "\n",
        "In a dataset with features like temperature and heating cost, they may have a negative correlation because higher temperatures generally reduce heating costs.\n",
        "\n"
      ],
      "metadata": {
        "id": "UyC41RD40TxK"
      }
    },
    {
      "cell_type": "markdown",
      "source": [
        "Ques-3 Define Machine Learning. What are the main components in Machine Learning?"
      ],
      "metadata": {
        "id": "PZdzVweK0xzD"
      }
    },
    {
      "cell_type": "markdown",
      "source": [
        "Machine Learning (ML) is a subset of artificial intelligence (AI) that focuses on developing algorithms and statistical models that enable computers to learn patterns and make decisions or predictions from data without being explicitly programmed. The key idea is to let machines improve their performance on tasks through experience.\n",
        "\n",
        "--> Main Components in Machine Learning:\n",
        "\n",
        "1. Data- Input to the learning process; raw data and features derived from it.\n",
        "\n",
        "2. Features- Key variables representing the data; foundation for training models.\n",
        "\n",
        "3. Model- Mathematical representation of patterns in data.\n",
        "\n",
        "4. Algorithm- Method for training the model by optimizing its parameters.\n",
        "\n",
        "5. Training- Process of fitting the model to the data.\n",
        "\n",
        "6. Evaluation- Metrics to test how well the model performs.\n",
        "\n",
        "7. Hyperparameters- Settings that control the learning process.\n",
        "\n",
        "8. Deployment- Real-world use of the trained model for decision-making or predictions.\n"
      ],
      "metadata": {
        "id": "mIg6ixpD04RX"
      }
    },
    {
      "cell_type": "markdown",
      "source": [
        "Ques-4 How does loss value help in determining whether the model is good or not?"
      ],
      "metadata": {
        "id": "N_8U4wXX1pGI"
      }
    },
    {
      "cell_type": "markdown",
      "source": [
        "The loss value is a quantitative measure of how well a machine learning model's predictions align with the actual target values. It plays a crucial role in assessing whether the model is good or not by providing direct feedback on the model's performance during training and evaluation.\n",
        "\n",
        "--> Loss Value Determines Model Quality:\n",
        "\n",
        "1. Measures Prediction Error:\n",
        "\n",
        "The loss value represents the difference (error) between the predicted output and the true output.\n",
        "\n",
        "A low loss value indicates that the model's predictions are close to the actual values, which is desirable.\n",
        "\n",
        "A high loss value indicates that the model is making significant errors, which suggests issues with the model, data, or features.\n",
        "\n",
        "2. Tracks Model Training Progress:\n",
        "\n",
        "During training, the loss value is used to monitor whether the model is improving:\n",
        "\n",
        "Decreasing Loss: Suggests the model is learning and capturing patterns in the data.\n",
        "\n",
        "Stagnant or Increasing Loss: Indicates potential problems such as poor learning rate, insufficient data, or over/underfitting.\n",
        "\n",
        "3. Validation Loss for Generalization:\n",
        "\n",
        "Comparing the loss on the training data to the validation data helps determine whether the model generalizes well:\n",
        "\n",
        "Similar Loss on Training and Validation Data: Indicates good generalization.\n",
        "\n",
        "Low Training Loss, High Validation Loss: Suggests overfitting (model memorizes training data but fails on unseen data).\n",
        "\n",
        "High Loss on Both Training and Validation: Indicates underfitting (model is too simple or lacks sufficient features).\n",
        "\n",
        "4. Basis for Optimization:\n",
        "\n",
        "The loss function guides the model's optimization process by providing a signal to adjust the model's parameters (weights) using techniques like gradient descent.\n",
        "\n",
        "A good model will consistently reduce the loss during training while avoiding overfitting.\n",
        "\n",
        "5. Selecting the Best Model:\n",
        "\n",
        "When comparing multiple models, the one with the lowest validation loss is typically considered the best, assuming it generalizes well."
      ],
      "metadata": {
        "id": "G4gk60sk3U5q"
      }
    },
    {
      "cell_type": "markdown",
      "source": [
        "Ques-5 What are continuous and categorical variables?"
      ],
      "metadata": {
        "id": "KtNxSv7X4LCy"
      }
    },
    {
      "cell_type": "markdown",
      "source": [
        "------>Continuous Variables:\n",
        "Variables that can take any numeric value within a range and have a meaningful order and scale.\n",
        "\n",
        "--> Characteristics:\n",
        "\n",
        "Values are measured on a continuous scale (e.g., decimals or fractions are possible).\n",
        "\n",
        "Typically used for quantities or measurements.\n",
        "\n",
        "The difference and ratio between values are meaningful.\n",
        "\n",
        "--> Examples:\n",
        "Height, Age, Weight, Salary.\n",
        "\n",
        "--> Usage in Machine Learning:\n",
        "\n",
        "Used in regression models or transformed into categories (discretization) for classification tasks.\n",
        "\n",
        "Preprocessing may involve scaling or normalization.\n",
        "\n",
        "------>Categorical Variables:\n",
        "Variables that represent distinct categories or groups.\n",
        "\n",
        "--> Characteristics:\n",
        "\n",
        "Values are discrete and finite (belong to a predefined set of categories).\n",
        "\n",
        "No inherent numeric meaning or order (though some categories may have an ordinal nature).\n",
        "\n",
        "--> Types of Categorical Variables:\n",
        "\n",
        "Nominal:\n",
        "Categories have no specific order.\n",
        "\n",
        "Ordinal:\n",
        "Categories have a meaningful order but no consistent difference between them.\n",
        "\n",
        "--> Example:\n",
        "Gender, Marital Status, Education.\n",
        "\n",
        "--> Usage in Machine Learning:\n",
        "\n",
        "Often encoded using techniques like:\n",
        "\n",
        "One-Hot Encoding: Creates binary columns for each category.\n",
        "\n",
        "Label Encoding: Assigns numeric labels to categories.\n",
        "\n",
        "Target Encoding: Maps categories to statistics (e.g., mean target value for each category).\n",
        "\n",
        "\n",
        "\n"
      ],
      "metadata": {
        "id": "8iAkaARp4Pe3"
      }
    },
    {
      "cell_type": "markdown",
      "source": [
        "**Ques-6 How do we handle categorical variables in Machine Learning? What are the common techniques?**"
      ],
      "metadata": {
        "id": "c1FSKrbk6fSD"
      }
    },
    {
      "cell_type": "markdown",
      "source": [
        "Categorical variables need to be transformed into a numeric format that machine learning algorithms can understand. The choice of technique depends on the nature of the categorical data, the model being used, and the dataset's size and characteristics.\n",
        "\n",
        "Common Techniques for Handling Categorical Variables:\n",
        "\n",
        "1. Label Encoding\n",
        "Assigns a unique integer to each category.\n",
        "\n",
        "Example:\n",
        "Color: Red → 0, Blue → 1, Green → 2.\n",
        "\n",
        "Pros:\n",
        "Simple and efficient for ordinal data.\n",
        "\n",
        "Cons:\n",
        "May introduce unintended ordinal relationships for nominal data.\n",
        "\n",
        "Best for: Ordinal variables or tree-based models (e.g., Decision Trees, Random Forests).\n",
        "\n",
        "2. One-Hot Encoding\n",
        "Creates binary columns for each category. A value of 1 indicates the presence of a category, and 0 indicates its absence.\n",
        "\n",
        "Example:\n",
        "Color: Red → [1, 0, 0], Blue → [0, 1, 0], Green → [0, 0, 1].\n",
        "\n",
        "Pros:\n",
        "Avoids introducing ordinal relationships.\n",
        "\n",
        "Works well with nominal data.\n",
        "\n",
        "Cons:\n",
        "Increases dimensionality (curse of dimensionality), especially for high-cardinality features.\n",
        "\n",
        "Best for: Nominal variables, especially for algorithms like Logistic Regression and Neural Networks.\n",
        "\n",
        "3. Ordinal Encoding\n",
        "Encodes categories with integers, respecting their order.\n",
        "\n",
        "Example:\n",
        "Education Level: High School → 0, Bachelor's → 1, Master's → 2, PhD → 3.\n",
        "\n",
        "Pros:\n",
        "Retains the order of categories.\n",
        "\n",
        "Cons:\n",
        "Assumes linear relationships between categories, which may not be appropriate.\n",
        "\n",
        "Best for: Ordinal variables in linear models or decision trees.\n",
        "\n",
        "4. Target Encoding (Mean Encoding)\n",
        "Replaces categories with the mean of the target variable for each category.\n",
        "\n",
        "Example (for a binary target variable):\n",
        "City: Delhi → 0.7, Mumbai → 0.3 (mean target values for each city).\n",
        "\n",
        "Pros:\n",
        "Captures the relationship between the category and the target variable.\n",
        "\n",
        "Cons:\n",
        "Risk of data leakage if not applied carefully (should only be done on training data).\n",
        "\n",
        "Best for: High-cardinality variables in supervised learning tasks.\n",
        "\n",
        "5. Frequency Encoding\n",
        "Encodes categories based on their frequency in the dataset.\n",
        "\n",
        "Example:\n",
        "City: Delhi (50) → 50, Mumbai (30) → 30, Kolkata (20) → 20.\n",
        "\n",
        "Pros:\n",
        "Simple and retains category information.\n",
        "\n",
        "Cons:\n",
        "May not capture the relationship with the target variable.\n",
        "\n",
        "Best for: High-cardinality variables where frequency carries meaningful information.\n",
        "\n",
        "6. Binary Encoding\n",
        "Combines the benefits of One-Hot and Label Encoding by converting categories into binary format.\n",
        "\n",
        "Example:\n",
        "City: Delhi → 1, Mumbai → 2, Kolkata → 3.\n",
        "\n",
        "Binary encoding: Delhi → [0, 1], Mumbai → [1, 0], Kolkata → [1, 1].\n",
        "\n",
        "Pros:\n",
        "Reduces dimensionality compared to One-Hot Encoding.\n",
        "\n",
        "Cons:\n",
        "Interpretation of the binary representation can be complex.\n",
        "\n",
        "Best for: High-cardinality variables in large datasets.\n",
        "\n",
        "7. Hash Encoding\n",
        "Uses a hash function to map categories to a fixed number of columns.\n",
        "\n",
        "Example:\n",
        "Hash categories into n buckets (user-defined size).\n",
        "\n",
        "Pros:\n",
        "Handles high-cardinality features efficiently.\n",
        "\n",
        "Avoids large memory usage.\n",
        "\n",
        "Cons:\n",
        "Risk of hash collisions (two categories mapped to the same bucket).\n",
        "\n",
        "Best for: Large datasets with high-cardinality features.\n",
        "\n",
        "8. Custom Encoding (Domain-Specific)\n",
        "Encode categories based on domain knowledge.\n",
        "\n",
        "Example:\n",
        "In a medical dataset, encode Risk Level (Low, Medium, High) based on expert-defined weights (e.g., Low → 1, Medium → 5, High → 10).\n",
        "\n",
        "Pros:\n",
        "Leverages domain knowledge for better feature representation.\n",
        "\n",
        "Cons:\n",
        "Time-consuming and subjective.\n",
        "\n",
        "Best for: When domain expertise is available.\n"
      ],
      "metadata": {
        "id": "i8eWMWkT6p8F"
      }
    },
    {
      "cell_type": "markdown",
      "source": [
        "**Ques-7 What do you mean by training and testing a dataset?**"
      ],
      "metadata": {
        "id": "mg-m79Qb9Ofa"
      }
    },
    {
      "cell_type": "markdown",
      "source": [
        "In machine learning, training and testing datasets are subsets of the original dataset used to build and evaluate a model. Properly splitting and utilizing these datasets ensures that the model can learn from data and generalize well to unseen data.\n",
        "\n",
        "1. Training Dataset\n",
        "\n",
        "Definition:\n",
        "The portion of the dataset used to train (fit) the machine learning model by optimizing its parameters.\n",
        "\n",
        "Purpose:\n",
        "To enable the model to learn patterns, relationships, and rules from the data.\n",
        "\n",
        "Usage:\n",
        "The model \"sees\" and \"learns\" from this data repeatedly during the training phase.\n",
        "\n",
        "Characteristics:\n",
        "Large enough to provide sufficient information for the model to learn effectively.\n",
        "\n",
        "The training process involves minimizing a loss function using optimization algorithms (e.g., Gradient Descent).\n",
        "\n",
        "2. Testing Dataset\n",
        "\n",
        "Definition:\n",
        "The portion of the dataset used to evaluate the model's performance after it has been trained.\n",
        "\n",
        "Purpose:\n",
        "To test the model's ability to generalize its learning to unseen data.\n",
        "\n",
        "Usage:\n",
        "The testing dataset is kept separate from the training process and is only used for evaluation.\n",
        "\n",
        "Characteristics:\n",
        "Represents unseen or new data that the model has not encountered during training.\n",
        "\n",
        "Provides an unbiased assessment of the model's performance."
      ],
      "metadata": {
        "id": "uO4VJpZH9nXD"
      }
    },
    {
      "cell_type": "markdown",
      "source": [
        "**Ques-8 What is sklearn.preprocessing?**"
      ],
      "metadata": {
        "id": "qlJjGpgQ_DKH"
      }
    },
    {
      "cell_type": "markdown",
      "source": [
        "The sklearn.preprocessing module in Scikit-Learn provides tools to transform raw data into a format suitable for machine learning algorithms. Many algorithms perform better when the data is properly scaled, normalized, or encoded, making preprocessing a crucial step in any machine learning pipeline.\n",
        "\n",
        "Key Techniques:\n",
        "\n",
        "1. Scaling and Standardization:\n",
        "\n",
        "StandardScaler: Scales features to a mean of 0 and standard deviation of 1.\n",
        "\n",
        "MinMaxScaler: Rescales data to a specific range, often [0, 1].\n",
        "\n",
        "RobustScaler: Uses median and interquartile range, robust to outliers.\n",
        "\n",
        "2. Encoding Categorical Variables:\n",
        "\n",
        "LabelEncoder: Converts categories into integers.\n",
        "\n",
        "OneHotEncoder: Creates binary columns for each category.\n",
        "\n",
        "OrdinalEncoder: Encodes categories while preserving order.\n",
        "\n",
        "3. Polynomial Features:\n",
        "\n",
        "Generates polynomial and interaction terms to capture non-linear relationships.\n",
        "\n",
        "4. Normalization:\n",
        "\n",
        "Scales feature vectors to unit norm using Normalizer.\n",
        "\n",
        "5. Handling Missing Data:\n",
        "\n",
        "SimpleImputer fills missing values with the mean, median, or constant.\n",
        "\n",
        "KNNImputer imputes based on nearest neighbors.\n",
        "\n",
        "6. Binarization and Discretization:\n",
        "\n",
        "Binarizer thresholds values; KBinsDiscretizer bins continuous data."
      ],
      "metadata": {
        "id": "E57-_on7_yKL"
      }
    },
    {
      "cell_type": "markdown",
      "source": [
        "**Ques-9 What is a Test set?**"
      ],
      "metadata": {
        "id": "PV2aq479BDad"
      }
    },
    {
      "cell_type": "markdown",
      "source": [
        "A test set is a portion of the dataset used to evaluate the performance of a trained machine learning model. It is separated from the training process to ensure an unbiased assessment of the model's ability to generalize to unseen data.\n",
        "\n",
        "Key Characteristics of a Test Set\n",
        "\n",
        "1. Unseen by the Model:\n",
        "\n",
        "The test set is not used during training or validation, ensuring the model has no prior exposure to this data.\n",
        "\n",
        "It helps evaluate the model's ability to generalize to new, real-world data.\n",
        "\n",
        "2. Fixed Partition:\n",
        "\n",
        "Typically, the dataset is divided into training, validation (optional), and test sets.\n",
        "\n",
        "Common splits: 70-80% for training, 20-30% for testing.\n",
        "\n",
        "3. Independent Evaluation:\n",
        "\n",
        "Metrics like accuracy, precision, recall, F1-score, and RMSE are computed on the test set to determine the model’s final performance."
      ],
      "metadata": {
        "id": "VZXA_iyLBMx8"
      }
    },
    {
      "cell_type": "markdown",
      "source": [
        "**Ques-10 How do we split data for model fitting (training and testing) in Python?\n",
        "How do you approach a Machine Learning problem?**"
      ],
      "metadata": {
        "id": "lJSFuzFrBlAe"
      }
    },
    {
      "cell_type": "markdown",
      "source": [
        "1. Splitting Data for Model Fitting in Python\n",
        "To split data into training and testing sets in Python, you can use Scikit-Learn's train_test_split function. This function randomly partitions the dataset into specified proportions for training and testing. Here's how it's done:"
      ],
      "metadata": {
        "id": "DC9VSOigBtEW"
      }
    },
    {
      "cell_type": "code",
      "execution_count": null,
      "metadata": {
        "id": "ALP5xEAPt5jM"
      },
      "outputs": [],
      "source": [
        "from sklearn.model_selection import train_test_split\n",
        "import numpy as np\n",
        "import pandas as pd\n",
        "\n",
        "# Example dataset\n",
        "data = pd.DataFrame({\n",
        "    'feature1': [1, 2, 3, 4, 5],\n",
        "    'feature2': [10, 20, 30, 40, 50],\n",
        "    'target': [0, 1, 0, 1, 0]\n",
        "})\n",
        "\n",
        "# Features (X) and target (y)\n",
        "X = data[['feature1', 'feature2']]\n",
        "y = data['target']\n",
        "\n",
        "# Split data: 80% for training, 20% for testing\n",
        "X_train, X_test, y_train, y_test = train_test_split(X, y, test_size=0.2, random_state=42)\n",
        "\n",
        "# Check split sizes\n",
        "print(\"Training features:\\n\", X_train)\n",
        "print(\"Testing features:\\n\", X_test)\n"
      ]
    },
    {
      "cell_type": "markdown",
      "source": [
        "test_size: Proportion of the dataset to include in the test split (e.g., 0.2 for 20%).\n",
        "\n",
        "random_state: Ensures reproducibility of the split by setting a random seed.\n",
        "\n",
        "stratify: Ensures class distribution in the train and test sets matches the original dataset (useful for classification problems)."
      ],
      "metadata": {
        "id": "GoT-nlwjCMqv"
      }
    },
    {
      "cell_type": "markdown",
      "source": [
        "2. How to Approach a Machine Learning Problem\n",
        "A structured approach helps efficiently solve machine learning problems. Here's a common step-by-step workflow:\n",
        "\n",
        "Step 1: Define the Problem\n",
        "\n",
        "Understand Objectives: Identify what you are solving (e.g., classification, regression).\n",
        "\n",
        "Understand the Data: Study the dataset's features and target variable.\n",
        "\n",
        "Step 2: Collect and Explore Data\n",
        "\n",
        "Data Collection: Gather data from sources like databases, APIs, or files.\n",
        "\n",
        "Exploratory Data Analysis (EDA): Analyze data using summary statistics, visualizations, and identifying patterns or trends.\n",
        "\n",
        "Step 3: Preprocess the Data\n",
        "\n",
        "Handle Missing Values: Use techniques like imputation or removing rows/columns.\n",
        "\n",
        "Encode Categorical Variables: Use LabelEncoder or OneHotEncoder.\n",
        "\n",
        "Feature Scaling: Apply StandardScaler or MinMaxScaler for normalization.\n",
        "\n",
        "Outlier Treatment: Identify and handle outliers using domain knowledge or statistical methods.\n",
        "\n",
        "Step 4: Split the Dataset\n",
        "\n",
        "Use train_test_split to divide data into training and testing sets.\n",
        "Optionally create a validation set for hyperparameter tuning.\n",
        "\n",
        "Step 5: Select and Train a Model\n",
        "\n",
        "Choose a Model: Select an appropriate algorithm (e.g., Decision Trees, Linear Regression).\n",
        "\n",
        "Train the Model: Fit the model using the training dataset.\n",
        "\n",
        "Step 6: Evaluate the Model\n",
        "\n",
        "Test Performance: Use metrics like accuracy, precision, recall, or RMSE on the test set.\n",
        "\n",
        "Cross-Validation: Use KFold or StratifiedKFold for robust performance evaluation.\n",
        "\n",
        "Step 7: Optimize the Model\n",
        "\n",
        "Hyperparameter Tuning: Use techniques like Grid Search or Random Search (GridSearchCV or RandomizedSearchCV).\n",
        "\n",
        "Feature Engineering: Create new features or remove irrelevant ones.\n",
        "\n",
        "Step 8: Deploy and Monitor\n",
        "\n",
        "Deploy the model in production (e.g., APIs or dashboards).\n",
        "\n",
        "Continuously monitor the model's performance and update it as necessary."
      ],
      "metadata": {
        "id": "Ob4LtKMDCUMR"
      }
    },
    {
      "cell_type": "markdown",
      "source": [
        "**Ques-11 Why do we have to perform EDA before fitting a model to the data?**"
      ],
      "metadata": {
        "id": "Ng5Qpj9QC91q"
      }
    },
    {
      "cell_type": "markdown",
      "source": [
        "Performing Exploratory Data Analysis (EDA) before fitting a machine learning model is crucial for understanding the dataset, identifying potential issues, and guiding the modeling process. EDA helps ensure that the model is applied to clean, well-understood data, which increases the chances of successful and accurate predictions. Here's why EDA is essential:\n",
        "\n",
        "1. Understand the Data Distribution\n",
        "\n",
        "Purpose: To understand the range, central tendency (mean, median), and spread (variance) of the features and target variable.\n",
        "\n",
        "Benefit: This helps identify whether features need scaling (e.g., for models like Logistic Regression, KNN) and if any data transformations (e.g., logarithmic or polynomial transformations) might be beneficial.\n",
        "\n",
        "2. Detect Missing or Inconsistent Data\n",
        "\n",
        "Purpose: Identify missing values, null entries, or outliers.\n",
        "\n",
        "Benefit: Missing values or inconsistent data can significantly affect model performance. EDA helps you decide how to handle them (e.g., imputation, removal, or interpolation).\n",
        "\n",
        "3. Identify Relationships and Correlations\n",
        "\n",
        "Purpose: Understand relationships between features and the target variable, as well as correlations between features.\n",
        "\n",
        "Benefit: Correlation analysis helps identify redundant features that might be dropped (to reduce multicollinearity) or features that should be engineered further. It also allows the identification of important predictor variables that strongly influence the target.\n",
        "\n",
        "4. Check for Outliers and Anomalies\n",
        "\n",
        "Purpose: Visualize and identify extreme values (outliers).\n",
        "\n",
        "Benefit: Outliers can distort model performance, especially in algorithms sensitive to data scale (e.g., linear models or KNN). EDA helps detect these outliers so you can handle them appropriately (e.g., through removal, transformation, or capping).\n",
        "\n",
        "5. Detect Data Distribution Issues (Skewness and Kurtosis)\n",
        "\n",
        "Purpose: Check whether features follow a normal distribution or if they are skewed.\n",
        "\n",
        "Benefit: If data is highly skewed, some models may struggle. Techniques like log transformations or using non-parametric models can be applied to address such issues.\n",
        "\n",
        "6. Visualize Class Imbalance (for Classification Problems)\n",
        "\n",
        "Purpose: Analyze the distribution of different classes in the target variable.\n",
        "\n",
        "Benefit: If the target variable has imbalanced classes, this can lead to biased predictions. Techniques such as oversampling, undersampling, or using specialized algorithms like SMOTE can be applied to address this issue.\n",
        "\n",
        "7. Identify Feature Relationships (Multicollinearity)\n",
        "\n",
        "Purpose: Understand how features interact with each other.\n",
        "\n",
        "Benefit: Highly correlated features (multicollinearity) can cause instability in some models (e.g., in linear regression). EDA helps in identifying such correlations, leading to potential feature reduction or transformation.\n",
        "\n",
        "8. Feature Engineering\n",
        "\n",
        "Purpose: Discover patterns and trends to create new features or transform existing ones.\n",
        "\n",
        "Benefit: EDA helps in generating new features, such as combining multiple features or creating interaction terms, which can enhance model performance.\n",
        "\n",
        "9. Validate Assumptions for Model Selection\n",
        "\n",
        "Purpose: Check whether the assumptions of your chosen model hold true.\n",
        "\n",
        "Benefit: For example, linear regression assumes a linear relationship between features and the target. EDA helps in verifying such assumptions before applying the model.\n"
      ],
      "metadata": {
        "id": "EGaqkgU2DGCq"
      }
    },
    {
      "cell_type": "markdown",
      "source": [
        "**Ques-12 What is correlation?**"
      ],
      "metadata": {
        "id": "N2GI8vmsOyU7"
      }
    },
    {
      "cell_type": "markdown",
      "source": [
        "Correlation refers to a statistical measure that expresses the extent to which two variables are related to each other. In other words, it quantifies how changes in one variable are associated with changes in another. The value of correlation ranges from -1 to +1:\n",
        "\n",
        "+1: Perfect positive correlation. As one variable increases, the other increases in a perfectly linear relationship.\n",
        "\n",
        "0: No correlation. There is no linear relationship between the two variables.\n",
        "\n",
        "-1: Perfect negative correlation. As one variable increases, the other decreases in a perfectly linear relationship."
      ],
      "metadata": {
        "id": "SD9-rw8VUhEp"
      }
    },
    {
      "cell_type": "markdown",
      "source": [
        "**Ques-13 What does negative correlation mean?**"
      ],
      "metadata": {
        "id": "Joj84RrVUpth"
      }
    },
    {
      "cell_type": "markdown",
      "source": [
        "A negative correlation means that as one variable increases, the other variable tends to decrease, and vice versa. In other words, there is an inverse relationship between the two variables.\n",
        "\n",
        "-1: Perfect negative correlation — a perfect inverse relationship, where the variables move in opposite directions in a perfectly linear way.\n",
        "\n",
        "Example of Negative Correlation\n",
        "\n",
        "Temperature and Heating Costs:\n",
        "\n",
        "As the outside temperature increases, the need for heating decreases. In this case, there is a negative correlation between temperature and heating costs."
      ],
      "metadata": {
        "id": "7C_Nt338Uuja"
      }
    },
    {
      "cell_type": "markdown",
      "source": [
        "**Ques-14 How can you find correlation between variables in Python?**"
      ],
      "metadata": {
        "id": "uzXMOf2hVAeS"
      }
    },
    {
      "cell_type": "markdown",
      "source": [
        "1. Using Pandas .corr() Method\n",
        "The .corr() method in Pandas computes the Pearson correlation coefficient between numerical columns in a DataFrame by default. It returns a correlation matrix, where each value represents the correlation between two variables."
      ],
      "metadata": {
        "id": "iZPkMCh2VGL7"
      }
    },
    {
      "cell_type": "code",
      "source": [
        "import pandas as pd\n",
        "\n",
        "data = {\n",
        "    'feature1': [1, 2, 3, 4, 5],\n",
        "    'feature2': [10, 20, 30, 40, 50],\n",
        "    'feature3': [5, 4, 3, 2, 1]\n",
        "}\n",
        "\n",
        "df = pd.DataFrame(data)\n",
        "\n",
        "correlation_matrix = df.corr()\n",
        "\n",
        "print(correlation_matrix)\n"
      ],
      "metadata": {
        "colab": {
          "base_uri": "https://localhost:8080/"
        },
        "id": "HeMxPtaAC7-t",
        "outputId": "7aa42f22-75c5-4801-8ff1-509edf5057d9"
      },
      "execution_count": null,
      "outputs": [
        {
          "output_type": "stream",
          "name": "stdout",
          "text": [
            "          feature1  feature2  feature3\n",
            "feature1       1.0       1.0      -1.0\n",
            "feature2       1.0       1.0      -1.0\n",
            "feature3      -1.0      -1.0       1.0\n"
          ]
        }
      ]
    },
    {
      "cell_type": "markdown",
      "source": [
        "1.0 indicates a perfect positive correlation.\n",
        "\n",
        "-1.0 indicates a perfect negative correlation.\n",
        "\n",
        "0.0 indicates no correlation."
      ],
      "metadata": {
        "id": "JfMGQzklVs5B"
      }
    },
    {
      "cell_type": "markdown",
      "source": [
        "2. Visualizing the Correlation Matrix with a Heatmap\n",
        "To get a more intuitive understanding of the correlations, you can visualize the correlation matrix using a heatmap with Seaborn."
      ],
      "metadata": {
        "id": "agBAm60XVz6d"
      }
    },
    {
      "cell_type": "code",
      "source": [
        "import seaborn as sns\n",
        "import matplotlib.pyplot as plt\n",
        "\n",
        "# Create a heatmap of the correlation matrix\n",
        "sns.heatmap(df.corr(), annot=True, cmap='coolwarm', fmt='.2f')\n",
        "\n",
        "# Display the plot\n",
        "plt.show()\n"
      ],
      "metadata": {
        "colab": {
          "base_uri": "https://localhost:8080/",
          "height": 435
        },
        "id": "yQXIwLcWViOY",
        "outputId": "87282768-800e-4d84-b82e-671c05428c8c"
      },
      "execution_count": null,
      "outputs": [
        {
          "output_type": "display_data",
          "data": {
            "text/plain": [
              "<Figure size 640x480 with 2 Axes>"
            ],
            "image/png": "[encoded data removed]"
          },
          "metadata": {}
        }
      ]
    },
    {
      "cell_type": "markdown",
      "source": [
        "Red indicates strong positive correlation.\n",
        "\n",
        "Blue indicates strong negative correlation.\n",
        "\n",
        "White indicates no correlation."
      ],
      "metadata": {
        "id": "64QpyaWJV9LO"
      }
    },
    {
      "cell_type": "markdown",
      "source": [
        "3. Calculating Specific Pairwise Correlation\n",
        "If you're interested in the correlation between just two specific variables, you can do so like this:\n"
      ],
      "metadata": {
        "id": "m-XLY3csWMjW"
      }
    },
    {
      "cell_type": "code",
      "source": [
        "# Calculate correlation between feature1 and feature2\n",
        "correlation_value = df['feature1'].corr(df['feature2'])\n",
        "print(\"Correlation between feature1 and feature2:\", correlation_value)\n"
      ],
      "metadata": {
        "id": "k0iUCMkUV7gr"
      },
      "execution_count": null,
      "outputs": []
    },
    {
      "cell_type": "markdown",
      "source": [
        "**Ques-15 What is causation? Explain difference between correlation and causation with an example.**"
      ],
      "metadata": {
        "id": "zaVyAO5UWUSZ"
      }
    },
    {
      "cell_type": "markdown",
      "source": [
        "Causation refers to a direct cause-and-effect relationship where one variable (the cause) directly influences another variable (the effect). This relationship implies that changes in the independent variable directly lead to changes in the dependent variable. Causation is much stronger than correlation because it establishes that one factor is responsible for bringing about an outcome.\n",
        "\n",
        "For example, smoking causes lung cancer. In this case, smoking is the cause, and lung cancer is the effect. The direct biological mechanisms involved in smoking, such as the introduction of harmful chemicals into the lungs, lead to the development of cancer. Therefore, causation explains why one variable changes due to the other.\n",
        "\n",
        "--> Difference\n",
        "\n",
        "The primary difference between correlation and causation is that correlation only shows a relationship, while causation indicates a direct influence of one variable on another. Correlation does not imply that one variable causes the other to change; it only suggests that they are related in some way. Causation, on the other hand, provides a deeper understanding of how and why changes in one variable lead to changes in another.\n",
        "\n",
        "For example, while ice cream sales and temperature are correlated, it is not accurate to say that rising temperatures cause people to buy more ice cream. The relationship could be due to other confounding factors like seasonality. In contrast, smoking leading to lung cancer is a clear example of causation because there is a well-established mechanism that links smoking directly to the disease."
      ],
      "metadata": {
        "id": "jpJ6oPy3We-g"
      }
    },
    {
      "cell_type": "markdown",
      "source": [
        "**Ques-16 What is an Optimizer? What are different types of optimizers? Explain each with an example.**"
      ],
      "metadata": {
        "id": "9gMOYqXkXC4d"
      }
    },
    {
      "cell_type": "markdown",
      "source": [
        "An optimizer is an algorithm or method used to adjust the weights of a model during the training process in order to minimize the loss function (i.e., the error between the predicted output and the actual output). The goal of optimization is to find the optimal parameters (weights and biases) that minimize the loss, thereby improving the model's accuracy.\n",
        "\n",
        "In simple terms, optimizers adjust the parameters of the model based on the gradients of the loss function with respect to those parameters. The optimizer updates the model’s weights in a way that helps reduce the error and make predictions more accurate.\n",
        "\n",
        "--> Different Types of Optimizers\n",
        "\n",
        "1. Stochastic Gradient Descent (SGD)\n",
        "\n",
        "Explanation: SGD is a simple yet widely used optimization algorithm. It updates the model's parameters by calculating the gradient of the loss function with respect to the model parameters, and then adjusts the parameters in the direction that minimizes the loss. Instead of computing the gradient using the entire dataset (which can be computationally expensive), SGD computes the gradient using one data point at a time, which makes it much faster for large datasets.\n",
        "\n",
        "Example:\n",
        "Suppose you want to optimize a simple linear regression model. At each iteration, SGD would select a random data point, calculate the gradient of the loss (difference between predicted and actual values), and update the model’s weights accordingly.\n",
        "\n",
        "Pros:\n",
        "Computationally efficient for large datasets.\n",
        "\n",
        "Can escape local minima.\n",
        "\n",
        "Cons:\n",
        "Noisy updates, leading to less precise convergence.\n",
        "\n",
        "Requires careful tuning of the learning rate.\n",
        "\n",
        "2. Mini-Batch Gradient Descent\n",
        "\n",
        "Explanation: Mini-batch gradient descent is a variation of SGD where instead of using a single data point, it uses a small batch of data to compute the gradient and update the model parameters. This approach strikes a balance between the computational efficiency of full-batch gradient descent and the faster convergence of SGD.\n",
        "\n",
        "Example:\n",
        "If your dataset has 1000 samples, you might set a batch size of 50. Instead of calculating the gradient using the entire dataset or a single point, it would calculate the gradient using 50 data points at each step.\n",
        "\n",
        "Pros:\n",
        "Faster convergence than SGD.\n",
        "\n",
        "Can take advantage of vectorization in matrix operations.\n",
        "\n",
        "Cons:\n",
        "Requires more memory to store the mini-batches.\n",
        "\n",
        "Still might need careful learning rate tuning.\n",
        "\n",
        "3. Momentum\n",
        "\n",
        "Explanation: Momentum is an extension of gradient descent that helps accelerate the convergence by adding a fraction of the previous update to the current one. This helps smooth out the updates and prevents oscillations, allowing the optimizer to converge faster.\n",
        "\n",
        "Example:\n",
        "In gradient descent, the model might oscillate back and forth across a steep part of the loss surface. With momentum, the optimizer builds up velocity in a particular direction, helping it overcome this oscillation.\n",
        "\n",
        "Pros:\n",
        "Reduces oscillations and speeds up convergence.\n",
        "\n",
        "Cons:\n",
        "Requires tuning of the momentum parameter (usually denoted as β).\n",
        "\n",
        "4. RMSprop (Root Mean Square Propagation)\n",
        "\n",
        "Explanation: RMSprop is an adaptive learning rate optimizer that adjusts the learning rate based on the average of recent gradients. It divides the learning rate by a moving average of recent gradient magnitudes, which helps in dealing with the issue of vanishing and exploding gradients in deep networks.\n",
        "\n",
        "Example:\n",
        "In RMSprop, if a particular parameter has large gradients in previous iterations, the learning rate will decrease for that parameter. If the gradient is small, the learning rate increases, ensuring stable convergence.\n",
        "\n",
        "Pros:\n",
        "Works well for non-stationary objectives (e.g., in RNNs).\n",
        "\n",
        "Handles sparse data better than SGD.\n",
        "\n",
        "Cons:\n",
        "Still requires tuning of the learning rate and decay factor.\n",
        "\n",
        "5. Adam (Adaptive Moment Estimation)\n",
        "\n",
        "Explanation: Adam is an extension of momentum and RMSprop that combines both the advantages of momentum (keeping track of past gradients) and RMSprop (adjusting the learning rate based on recent gradient magnitudes). Adam computes individual adaptive learning rates for different parameters from estimates of first and second moments of the gradients (mean and variance).\n",
        "\n",
        "Example:\n",
        "During training, Adam adjusts the learning rates for each parameter individually based on the gradients, making it highly efficient for large datasets and deep networks. It uses two key parameters: the learning rate (α), and two decay rates for the first and second moment estimates (β1 and β2).\n",
        "\n",
        "Pros:\n",
        "Works well for both sparse and dense gradients.\n",
        "\n",
        "Typically faster convergence and less parameter tuning required compared to SGD.\n",
        "\n",
        "Cons:\n",
        "Can be computationally more expensive than SGD.\n",
        "\n",
        "May sometimes lead to suboptimal performance on certain tasks if not properly tuned.\n",
        "\n",
        "6. Adagrad (Adaptive Gradient Algorithm)\n",
        "\n",
        "Explanation: Adagrad is an adaptive optimizer that adjusts the learning rate for each parameter based on its past gradients. It assigns a larger learning rate to parameters that have smaller gradients and a smaller learning rate to parameters that have larger gradients, aiming to speed up the learning process for less frequently updated parameters.\n",
        "\n",
        "Example:\n",
        "For parameters that are frequently updated (i.e., those with large gradients), Adagrad reduces the learning rate over time. For parameters with infrequent updates, it increases the learning rate.\n",
        "\n",
        "Pros:\n",
        "Ideal for sparse data or tasks where some features appear infrequently.\n",
        "\n",
        "Cons:\n",
        "The learning rate may decrease too rapidly, leading to premature convergence.\n",
        "\n",
        "7. Adadelta\n",
        "\n",
        "Explanation: Adadelta is an improvement on Adagrad, addressing the issue of rapidly decreasing learning rates by using a moving window of past gradients, rather than accumulating all previous gradients. This allows for more stable and efficient updates.\n",
        "\n",
        "Example:\n",
        "Adadelta adjusts the learning rate by considering only a fixed window of past gradients, ensuring that the learning rate doesn’t decrease too quickly, and updates continue efficiently.\n",
        "\n",
        "Pros:\n",
        "More stable than Adagrad in terms of learning rate decay.\n",
        "\n",
        "Cons:\n",
        "More computationally complex than simple SGD.\n"
      ],
      "metadata": {
        "id": "ZvtqrhSpXJ4F"
      }
    },
    {
      "cell_type": "markdown",
      "source": [
        "**Ques-17 What is sklearn.linear_model ?**"
      ],
      "metadata": {
        "id": "v7v0RsMjaf63"
      }
    },
    {
      "cell_type": "markdown",
      "source": [
        "sklearn.linear_model is a module in the Scikit-learn library that provides a collection of machine learning models and tools specifically designed for linear methods. Linear models are algorithms that predict an output based on a linear combination of input features. This module contains implementations of various linear regression, classification, and regularization techniques.\n",
        "\n",
        "\n",
        "--> Key Features of sklearn.linear_model:\n",
        "\n",
        "Regression Models:\n",
        "Used for predicting continuous target variables.\n",
        "\n",
        "Examples: Simple Linear Regression, Ridge Regression, Lasso Regression.\n",
        "\n",
        "Classification Models:\n",
        "Used for predicting categorical target variables.\n",
        "\n",
        "Examples: Logistic Regression, Perceptron.\n",
        "\n",
        "Regularization Techniques:\n",
        "Helps prevent overfitting by adding penalties to the model's complexity.\n",
        "\n",
        "Examples: Ridge, Lasso, ElasticNet.\n",
        "\n",
        "Scalable and Efficient:\n",
        "Designed to handle both small and large datasets efficiently."
      ],
      "metadata": {
        "id": "6yT-sVeuMN62"
      }
    },
    {
      "cell_type": "markdown",
      "source": [
        "**Ques-18 What does model.fit() do? What arguments must be given?**"
      ],
      "metadata": {
        "id": "S_k9Tn_2MjCc"
      }
    },
    {
      "cell_type": "markdown",
      "source": [
        "The model.fit() method is used to train a machine learning model on a given dataset. It performs the following key steps:\n",
        "\n",
        "Accepts Input Data:\n",
        "Takes the training data (X) and the corresponding target labels (y).\n",
        "\n",
        "Learns Model Parameters:\n",
        "Based on the input data, it adjusts the model's parameters (e.g., weights, biases) to minimize the error or loss function.\n",
        "\n",
        "Prepares the Model for Predictions:\n",
        "After training, the model can use the learned parameters to make predictions on new, unseen data using model.predict().\n",
        "\n",
        "--> Arguments Required for model.fit()\n",
        "\n",
        "The arguments required depend on the type of model being used (e.g., regression, classification). Generally, it requires:\n",
        "\n",
        "X (Features or Input Data):\n",
        "A 2D array-like object, where each row represents a sample, and each column represents a feature.\n",
        "\n",
        "Shape: (n_samples, n_features).\n",
        "\n",
        "y (Target or Labels):\n",
        "A 1D array-like object, where each element is the target value for the corresponding sample in X.\n",
        "\n",
        "Shape: (n_samples,).\n",
        "\n",
        "For example:\n",
        "\n",
        "Regression models: y contains continuous values.\n",
        "\n",
        "Classification models: y contains categorical class labels.\n"
      ],
      "metadata": {
        "id": "SMRQvDaGMpzy"
      }
    },
    {
      "cell_type": "markdown",
      "source": [
        "**Ques-19 What does model.predict() do? What arguments must be given?**"
      ],
      "metadata": {
        "id": "Y_L7zTaMNKVK"
      }
    },
    {
      "cell_type": "markdown",
      "source": [
        "The model.predict() method is used to make predictions based on a trained machine learning model. Once the model has been trained using model.fit(), you can use model.predict() to predict the output (target values) for new, unseen input data.\n",
        "\n",
        "--> Functionality of model.predict()\n",
        "\n",
        "Takes Input Data (X):\n",
        "It accepts a set of input features for which predictions are required.\n",
        "\n",
        "Uses Trained Parameters:\n",
        "The model applies the learned parameters (e.g., weights and biases) from the training phase to calculate the predicted output.\n",
        "\n",
        "Returns Predicted Values:\n",
        "For regression tasks: It returns continuous numeric values.\n",
        "\n",
        "For classification tasks: It returns predicted class labels.\n",
        "\n",
        "--> Arguments Required for model.predict()\n",
        "\n",
        "X (Input Features):\n",
        "\n",
        "A 2D array-like object where:\n",
        "\n",
        "Each row represents a sample.\n",
        "\n",
        "Each column represents a feature.\n",
        "\n",
        "Shape: (n_samples, n_features).\n",
        "\n",
        "Example: If you trained your model with a dataset that has 3 features per sample, then X should have the same number of features for each input sample."
      ],
      "metadata": {
        "id": "hkNJhlqcNPF-"
      }
    },
    {
      "cell_type": "markdown",
      "source": [
        "**Ques-21 What is feature scaling? How does it help in Machine Learning?**"
      ],
      "metadata": {
        "id": "68xk8DB_OFaU"
      }
    },
    {
      "cell_type": "markdown",
      "source": [
        "Feature scaling is a preprocessing technique used to normalize the range of independent variables or features of data. In feature scaling, the values of numerical features are transformed to fall within a specific range or have a particular distribution, typically to make them comparable and improve the performance of machine learning algorithms.\n",
        "\n",
        "\n",
        "--> How Feature Scaling Helps in Machine Learning\n",
        "\n",
        "Prevents Bias in Distance Metrics:\n",
        "Scaling ensures that features with larger ranges do not dominate algorithms relying on distance, like KNN, K-Means, or SVM.\n",
        "\n",
        "Faster Optimization:\n",
        "For gradient-based algorithms, scaling avoids large variations in feature magnitudes that slow down convergence.\n",
        "\n",
        "Improves Accuracy:\n",
        "Models trained on scaled features often generalize better as no feature disproportionately influences the outcome.\n",
        "\n",
        "Essential for Regularized Models:\n",
        "Scaling ensures uniformity, making regularization (e.g., L1/L2 penalties) effective across all features.\n"
      ],
      "metadata": {
        "id": "XGTLLgu7OQbg"
      }
    },
    {
      "cell_type": "markdown",
      "source": [
        "**Ques-22 How do we perform scaling in Python?**"
      ],
      "metadata": {
        "id": "9cnuwtB1OtZr"
      }
    },
    {
      "cell_type": "markdown",
      "source": [
        "1. Import Required Libraries\n",
        "Start by importing the necessary libraries:"
      ],
      "metadata": {
        "id": "Kdw_p2IaO6Nv"
      }
    },
    {
      "cell_type": "code",
      "source": [
        "from sklearn.preprocessing import MinMaxScaler, StandardScaler, RobustScaler, MaxAbsScaler\n"
      ],
      "metadata": {
        "id": "49ADeDwEWeJt"
      },
      "execution_count": null,
      "outputs": []
    },
    {
      "cell_type": "markdown",
      "source": [
        "2. Load the Dataset\n",
        "Create or load your dataset:"
      ],
      "metadata": {
        "id": "7NQpfJKhPg2I"
      }
    },
    {
      "cell_type": "code",
      "source": [
        "import numpy as np\n",
        "import pandas as pd\n",
        "\n",
        "# Example dataset\n",
        "data = {'Feature1': [10, 20, 30, 40, 50],\n",
        "        'Feature2': [100, 200, 300, 400, 500],\n",
        "        'Feature3': [1, 2, 3, 4, 5]}\n",
        "\n",
        "df = pd.DataFrame(data)\n",
        "print(df)\n"
      ],
      "metadata": {
        "id": "Lx0oPpDBPiwX"
      },
      "execution_count": null,
      "outputs": []
    },
    {
      "cell_type": "markdown",
      "source": [
        "3. Apply Feature Scaling Techniques\n",
        "\n",
        "a) Min-Max Scaling\n",
        "Scales features to a specific range, typically [0, 1]."
      ],
      "metadata": {
        "id": "ZhtrxJGUPkxM"
      }
    },
    {
      "cell_type": "code",
      "source": [
        "scaler = MinMaxScaler()\n",
        "scaled_data = scaler.fit_transform(df)\n",
        "print(pd.DataFrame(scaled_data, columns=df.columns))\n"
      ],
      "metadata": {
        "id": "3hdQdJ40PoT9"
      },
      "execution_count": null,
      "outputs": []
    },
    {
      "cell_type": "markdown",
      "source": [
        "b) Standardization (Z-score Normalization)\n",
        "Scales features to have a mean of 0 and a standard deviation of 1."
      ],
      "metadata": {
        "id": "tMyJGthNPtcI"
      }
    },
    {
      "cell_type": "code",
      "source": [
        "scaler = StandardScaler()\n",
        "scaled_data = scaler.fit_transform(df)\n",
        "print(pd.DataFrame(scaled_data, columns=df.columns))\n"
      ],
      "metadata": {
        "id": "c79LM28qPzb6"
      },
      "execution_count": null,
      "outputs": []
    },
    {
      "cell_type": "markdown",
      "source": [
        "c) Robust Scaling\n",
        "Scales data using the median and interquartile range, making it robust to outliers.\n"
      ],
      "metadata": {
        "id": "ODURUrwQP1ev"
      }
    },
    {
      "cell_type": "code",
      "source": [
        "scaler = RobustScaler()\n",
        "scaled_data = scaler.fit_transform(df)\n",
        "print(pd.DataFrame(scaled_data, columns=df.columns))\n"
      ],
      "metadata": {
        "id": "g10NGASMP3hE"
      },
      "execution_count": null,
      "outputs": []
    },
    {
      "cell_type": "markdown",
      "source": [
        "d) Max Abs Scaling\n",
        "Scales each feature by dividing by its maximum absolute value. Maintains sparsity for sparse datasets."
      ],
      "metadata": {
        "id": "4ijlR1QLP5Ol"
      }
    },
    {
      "cell_type": "code",
      "source": [
        "scaler = MaxAbsScaler()\n",
        "scaled_data = scaler.fit_transform(df)\n",
        "print(pd.DataFrame(scaled_data, columns=df.columns))\n"
      ],
      "metadata": {
        "id": "0AfLcF02P7Fv"
      },
      "execution_count": null,
      "outputs": []
    },
    {
      "cell_type": "markdown",
      "source": [
        "4. Transform New Data\n",
        "Once the scaler is fitted to the training data, you can use it to scale new or test data:\n",
        "\n"
      ],
      "metadata": {
        "id": "yt4H4PSnP8wF"
      }
    },
    {
      "cell_type": "code",
      "source": [
        "new_data = [[60, 600, 6]]\n",
        "scaled_new_data = scaler.transform(new_data)\n",
        "print(scaled_new_data)\n"
      ],
      "metadata": {
        "id": "kTL84xtZP_-d"
      },
      "execution_count": null,
      "outputs": []
    },
    {
      "cell_type": "markdown",
      "source": [
        "5. Inverse Transform (Optional)\n",
        "To reverse the scaling and return to the original scale:"
      ],
      "metadata": {
        "id": "LX4XVlShQDQj"
      }
    },
    {
      "cell_type": "code",
      "source": [
        "original_data = scaler.inverse_transform(scaled_data)\n",
        "print(pd.DataFrame(original_data, columns=df.columns))\n"
      ],
      "metadata": {
        "id": "va_8AMX-QGO1"
      },
      "execution_count": null,
      "outputs": []
    },
    {
      "cell_type": "markdown",
      "source": [
        "**Ques-25 Explain data encoding?**"
      ],
      "metadata": {
        "id": "1zhYx4zKQIFH"
      }
    },
    {
      "cell_type": "markdown",
      "source": [
        "Data encoding is the process of converting categorical data into a numerical format that machine learning algorithms can understand. Since most machine learning models work with numerical inputs, encoding is a crucial step in preprocessing categorical variables in datasets.\n",
        "\n",
        "Categorical data can be of two types:\n",
        "\n",
        "Nominal: Categories without any inherent order (e.g., colors: red, green, blue).\n",
        "\n",
        "Ordinal: Categories with a meaningful order (e.g., size: small, medium, large).\n",
        "\n",
        "--> Why is Data Encoding Necessary?\n",
        "\n",
        "Machine Learning Models Require Numerical Data:\n",
        "Algorithms like regression, SVM, and neural networks cannot process categorical values directly.\n",
        "\n",
        "Preserves Relationships:\n",
        "Proper encoding ensures that relationships between categories are maintained in the transformed data.\n",
        "\n",
        "Improves Model Performance:\n",
        "Encoded data helps models learn and generalize better, especially for classification tasks.\n",
        "\n",
        "--> Common Data Encoding Techniques:\n",
        "\n",
        "1. Label Encoding\n",
        "\n",
        "2. One-Hot Encoding\n",
        "\n",
        "3. Ordinal Encoding\n",
        "\n",
        "4. Frequency Encoding\n",
        "\n",
        "5. Binary Encoding\n",
        "\n",
        "6. Target Encoding\n",
        "\n",
        "--> Which Encoding to Use?\n",
        "\n",
        "Small number of categories: Use One-Hot Encoding.\n",
        "\n",
        "Ordinal categories: Use Ordinal Encoding or Label Encoding.\n",
        "\n",
        "High-cardinality categories: Use Target Encoding or Frequency Encoding.\n",
        "\n",
        "Memory constraints: Use Label or Binary Encoding."
      ],
      "metadata": {
        "id": "lZc7g1ZSQVPS"
      }
    }
  ]
}